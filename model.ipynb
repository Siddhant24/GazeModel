{
 "cells": [
  {
   "cell_type": "code",
   "execution_count": 1,
   "metadata": {},
   "outputs": [],
   "source": [
    "# set up Python environment: numpy for numerical routines, and matplotlib for plotting\n",
    "import numpy as np\n",
    "import matplotlib.pyplot as plt\n",
    "# display plots in this notebook\n",
    "%matplotlib inline\n",
    "\n",
    "# set display defaults\n",
    "plt.rcParams['figure.figsize'] = (10, 10)        # large images\n",
    "plt.rcParams['image.interpolation'] = 'nearest'  # don't interpolate: show square pixels\n",
    "plt.rcParams['image.cmap'] = 'gray'  # use grayscale output rather than a (potentially misleading) color heatmap"
   ]
  },
  {
   "cell_type": "code",
   "execution_count": 2,
   "metadata": {},
   "outputs": [],
   "source": [
    "# The caffe module needs to be on the Python path;\n",
    "#  we'll add it here explicitly.\n",
    "import sys\n",
    "caffe_root = '../../caffe/'  # this file should be run from {caffe_root}/examples (otherwise change this line)\n",
    "sys.path.insert(0, caffe_root + 'python')\n",
    "\n",
    "import caffe\n",
    "# If you get \"No module named _caffe\", either you have not built pycaffe or you have the wrong path."
   ]
  },
  {
   "cell_type": "code",
   "execution_count": 6,
   "metadata": {},
   "outputs": [
    {
     "name": "stdout",
     "output_type": "stream",
     "text": [
      "Caffemodel found.\n"
     ]
    }
   ],
   "source": [
    "import os\n",
    "if os.path.isfile('./models/snapshots/itracker_iter_92000.caffemodel'):\n",
    "    print ('Caffemodel found.')\n",
    "else:\n",
    "    print ('Caffemodel not found')"
   ]
  },
  {
   "cell_type": "code",
   "execution_count": 44,
   "metadata": {},
   "outputs": [],
   "source": [
    "caffe.set_mode_cpu()\n",
    "\n",
    "model_def = './models/itracker_deploy.prototxt'\n",
    "model_weights = './models/snapshots/itracker_iter_92000.caffemodel'\n",
    "\n",
    "net = caffe.Net(model_def,      # defines the structure of the model\n",
    "                model_weights,  # contains the trained weights\n",
    "                caffe.TEST)     # use test mode (e.g., don't perform dropout)"
   ]
  },
  {
   "cell_type": "code",
   "execution_count": 45,
   "metadata": {},
   "outputs": [],
   "source": [
    "# for reading .mat files\n",
    "import scipy.io\n"
   ]
  },
  {
   "cell_type": "code",
   "execution_count": 69,
   "metadata": {},
   "outputs": [
    {
     "name": "stdout",
     "output_type": "stream",
     "text": [
      "(3,)\n"
     ]
    }
   ],
   "source": [
    "\n",
    "# load the mean images\n",
    "mu_face = scipy.io.loadmat('./models/mean_images/mean_face_224.mat')\n",
    "mu_right = scipy.io.loadmat('./models/mean_images/mean_right_224.mat')\n",
    "mu_left = scipy.io.loadmat('./models/mean_images/mean_left_224.mat')\n",
    "\n",
    "# average over pixels to obtain the mean (RGB) pixel values\n",
    "mu_face = mu_face['image_mean'].mean(0).mean(0)\n",
    "mu_right = mu_right['image_mean'].mean(0).mean(0)  \n",
    "mu_left = mu_left['image_mean'].mean(0).mean(0)  \n",
    "print(mu_face.shape)"
   ]
  },
  {
   "cell_type": "code",
   "execution_count": 70,
   "metadata": {},
   "outputs": [],
   "source": [
    "# create transformers for the input data\n",
    "transformer_image_face = caffe.io.Transformer({'image_face': net.blobs['image_face'].data.shape})\n",
    "transformer_image_right = caffe.io.Transformer({'image_right': net.blobs['image_right'].data.shape})\n",
    "transformer_image_left = caffe.io.Transformer({'image_left': net.blobs['image_left'].data.shape})\n",
    "transformer_facegrid = caffe.io.Transformer({'facegrid': net.blobs['facegrid'].data.shape})\n",
    "\n"
   ]
  },
  {
   "cell_type": "code",
   "execution_count": 71,
   "metadata": {},
   "outputs": [],
   "source": [
    "# move image channels to outermost dimension\n",
    "transformer_image_face.set_transpose('image_face', (2,0,1))\n",
    "transformer_image_right.set_transpose('image_right', (2,0,1))\n",
    "transformer_image_left.set_transpose('image_left', (2,0,1))"
   ]
  },
  {
   "cell_type": "code",
   "execution_count": 72,
   "metadata": {},
   "outputs": [],
   "source": [
    "# subtract the dataset-mean value in each channel\n",
    "transformer_image_face.set_mean('image_face', mu_face) \n",
    "transformer_image_right.set_mean('image_right', mu_right)\n",
    "transformer_image_left.set_mean('image_left', mu_left)"
   ]
  },
  {
   "cell_type": "code",
   "execution_count": null,
   "metadata": {},
   "outputs": [],
   "source": []
  }
 ],
 "metadata": {
  "kernelspec": {
   "display_name": "Python 3",
   "language": "python",
   "name": "python3"
  },
  "language_info": {
   "codemirror_mode": {
    "name": "ipython",
    "version": 3
   },
   "file_extension": ".py",
   "mimetype": "text/x-python",
   "name": "python",
   "nbconvert_exporter": "python",
   "pygments_lexer": "ipython3",
   "version": "3.6.5"
  }
 },
 "nbformat": 4,
 "nbformat_minor": 2
}
