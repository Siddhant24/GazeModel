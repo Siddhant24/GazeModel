{
 "cells": [
  {
   "cell_type": "code",
   "execution_count": 6,
   "metadata": {},
   "outputs": [],
   "source": [
    "# set up Python environment: numpy for numerical routines, and matplotlib for plotting\n",
    "import numpy as np\n",
    "import matplotlib.pyplot as plt\n",
    "# display plots in this notebook\n",
    "%matplotlib inline\n",
    "\n",
    "# set display defaults\n",
    "plt.rcParams['figure.figsize'] = (10, 10)        # large images\n",
    "plt.rcParams['image.interpolation'] = 'nearest'  # don't interpolate: show square pixels\n",
    "plt.rcParams['image.cmap'] = 'gray'  # use grayscale output rather than a (potentially misleading) color heatmap"
   ]
  },
  {
   "cell_type": "code",
   "execution_count": 7,
   "metadata": {},
   "outputs": [],
   "source": [
    "# The caffe module needs to be on the Python path;\n",
    "#  we'll add it here explicitly.\n",
    "import sys\n",
    "caffe_root = '../../caffe/'  # this file should be run from {caffe_root} (otherwise change this line)\n",
    "sys.path.insert(0, caffe_root + 'python')\n",
    "\n",
    "import caffe\n",
    "# If you get \"No module named _caffe\", either you have not built pycaffe or you have the wrong path."
   ]
  },
  {
   "cell_type": "code",
   "execution_count": 8,
   "metadata": {},
   "outputs": [
    {
     "name": "stdout",
     "output_type": "stream",
     "text": [
      "Caffemodel found.\n"
     ]
    }
   ],
   "source": [
    "import os    \n",
    "if os.path.isfile('./models/snapshots/itracker_iter_92000.caffemodel'): \n",
    "    print ('Caffemodel found.')\n",
    "else:\n",
    "    print ('Caffemodel not found')"
   ]
  },
  {
   "cell_type": "code",
   "execution_count": 9,
   "metadata": {},
   "outputs": [],
   "source": [
    "caffe.set_mode_cpu()\n",
    "\n",
    "model_def = './models/itracker_deploy.prototxt'\n",
    "# change to itracker25x_iter_92000.caffemodel for augmented dataset trained parameters, itracker_iter_92000.caffemodel for model parameters from unaugmented dataset\n",
    "model_weights = './models/snapshots/itracker_iter_92000.caffemodel'\n",
    "\n",
    "net = caffe.Net(model_def,      # defines the structure of the model\n",
    "                model_weights,  # contains the trained weights\n",
    "                caffe.TEST)     # use test mode (e.g., don't perform dropout)"
   ]
  },
  {
   "cell_type": "code",
   "execution_count": 10,
   "metadata": {},
   "outputs": [],
   "source": [
    "# for reading .mat files\n",
    "import scipy.io\n"
   ]
  },
  {
   "cell_type": "code",
   "execution_count": 33,
   "metadata": {},
   "outputs": [
    {
     "name": "stdout",
     "output_type": "stream",
     "text": [
      "(3,)\n"
     ]
    }
   ],
   "source": [
    "\n",
    "# load the mean images\n",
    "mu_face = scipy.io.loadmat('./models/mean_images/mean_face_224.mat')\n",
    "mu_right = scipy.io.loadmat('./models/mean_images/mean_right_224.mat')\n",
    "mu_left = scipy.io.loadmat('./models/mean_images/mean_left_224.mat')\n",
    "\n",
    "# average over pixels to obtain the mean (RGB) pixel values\n",
    "mu_face = mu_face['image_mean'].mean(0).mean(0)\n",
    "mu_right = mu_right['image_mean'].mean(0).mean(0)  \n",
    "mu_left = mu_left['image_mean'].mean(0).mean(0)  \n",
    "print(mu_face.shape)"
   ]
  },
  {
   "cell_type": "code",
   "execution_count": 34,
   "metadata": {},
   "outputs": [],
   "source": [
    "# create transformers for the input data\n",
    "transformer_image_face = caffe.io.Transformer({'image_face': net.blobs['image_face'].data.shape})\n",
    "transformer_image_right = caffe.io.Transformer({'image_right': net.blobs['image_right'].data.shape})\n",
    "transformer_image_left = caffe.io.Transformer({'image_left': net.blobs['image_left'].data.shape})\n",
    "transformer_facegrid = caffe.io.Transformer({'facegrid': net.blobs['facegrid'].data.shape})\n",
    "\n"
   ]
  },
  {
   "cell_type": "code",
   "execution_count": 35,
   "metadata": {},
   "outputs": [],
   "source": [
    "# move image channels to outermost dimension\n",
    "transformer_image_face.set_transpose('image_face', (2,0,1))\n",
    "transformer_image_right.set_transpose('image_right', (2,0,1))\n",
    "transformer_image_left.set_transpose('image_left', (2,0,1))"
   ]
  },
  {
   "cell_type": "code",
   "execution_count": 36,
   "metadata": {},
   "outputs": [],
   "source": [
    "# subtract the dataset-mean value in each channel\n",
    "transformer_image_face.set_mean('image_face', mu_face) \n",
    "transformer_image_right.set_mean('image_right', mu_right)\n",
    "transformer_image_left.set_mean('image_left', mu_left)"
   ]
  },
  {
   "cell_type": "code",
   "execution_count": 37,
   "metadata": {},
   "outputs": [],
   "source": [
    "# set the size of the input \n",
    "net.blobs['image_face'].reshape(1,        # batch size\n",
    "                          3,         # 3-channel (RBG) images\n",
    "                          224, 224)  # image size is 224x224\n",
    "net.blobs['image_right'].reshape(1,        # batch size\n",
    "                          3,         # 3-channel (RBG) images\n",
    "                          224, 224)  # image size is 224x224\n",
    "net.blobs['image_left'].reshape(1,        # batch size\n",
    "                          3,         # 3-channel (RBG) images\n",
    "                          224, 224)  # image size is 224x224\n",
    "net.blobs['facegrid'].reshape(1,        # batch size\n",
    "                          625,         \n",
    "                          1, 1)  "
   ]
  },
  {
   "cell_type": "code",
   "execution_count": 54,
   "metadata": {},
   "outputs": [
    {
     "name": "stdout",
     "output_type": "stream",
     "text": [
      "[[[-100.79842  -100.8123   -100.802345 ... -100.23198  -100.22019\n",
      "   -100.21712 ]\n",
      "  [-100.79404  -100.82799  -100.82148  ... -100.19262  -100.1886\n",
      "   -100.186005]\n",
      "  [-100.782265 -100.81357  -100.82188  ... -100.11481  -100.113945\n",
      "   -100.11219 ]\n",
      "  ...\n",
      "  [-100.82625  -100.830574 -100.80277  ... -100.793175 -100.78881\n",
      "   -100.7906  ]\n",
      "  [-100.82415  -100.827934 -100.79782  ... -100.79147  -100.78492\n",
      "   -100.788795]\n",
      "  [-100.82891  -100.84888  -100.84148  ... -100.77924  -100.78745\n",
      "   -100.80229 ]]\n",
      "\n",
      " [[-112.10693  -112.128654 -112.1187   ... -111.66421  -111.65158\n",
      "   -111.64937 ]\n",
      "  [-112.10647  -112.14434  -112.137825 ... -111.61473  -111.60695\n",
      "   -111.608215]\n",
      "  [-112.094696 -112.13257  -112.13909  ... -111.52127  -111.52041\n",
      "   -111.518654]\n",
      "  ...\n",
      "  [-112.17747  -112.18093  -112.15308  ... -112.152664 -112.1483\n",
      "   -112.15009 ]\n",
      "  [-112.17188  -112.17566  -112.15085  ... -112.15096  -112.14441\n",
      "   -112.148285]\n",
      "  [-112.176636 -112.204445 -112.197044 ... -112.13873  -112.14694\n",
      "   -112.16178 ]]\n",
      "\n",
      " [[-147.92877  -147.94656  -147.93661  ... -147.72615  -147.71393\n",
      "   -147.71129 ]\n",
      "  [-147.91653  -147.96225  -147.95573  ... -147.67055  -147.66402\n",
      "   -147.664   ]\n",
      "  [-147.90477  -147.94255  -147.95442  ... -147.56792  -147.56705\n",
      "   -147.56529 ]\n",
      "  ...\n",
      "  [-148.06549  -148.0733   -148.05421  ... -148.18234  -148.17798\n",
      "   -148.17976 ]\n",
      "  [-148.07474  -148.08374  -148.0642   ... -148.18065  -148.17409\n",
      "   -148.17796 ]\n",
      "  [-148.09085  -148.12302  -148.12044  ... -148.16841  -148.17662\n",
      "   -148.19145 ]]]\n"
     ]
    }
   ],
   "source": [
    "# load image_face\n",
    "face = caffe.io.load_image('appleFace00003/00070.jpg')\n",
    "transformed_image_face = transformer_image_face.preprocess('image_face', face)\n",
    "print(transformed_image_face)"
   ]
  },
  {
   "cell_type": "code",
   "execution_count": 55,
   "metadata": {},
   "outputs": [
    {
     "name": "stdout",
     "output_type": "stream",
     "text": [
      "[[[ -93.14576   -93.11855   -93.12149  ...  -92.95753   -92.9737\n",
      "    -93.04429 ]\n",
      "  [ -93.120026  -93.08449   -93.08791  ...  -92.87591   -92.88375\n",
      "    -92.9737  ]\n",
      "  [ -93.12591   -93.091835  -93.09429  ...  -92.895515  -92.87591\n",
      "    -92.95753 ]\n",
      "  ...\n",
      "  [ -93.080315  -93.03546   -93.04674  ...  -92.61512   -92.60728\n",
      "    -92.76047 ]\n",
      "  [ -93.08326   -93.038895  -93.04919  ...  -92.61316   -92.605316\n",
      "    -92.758995]\n",
      "  [ -93.12149   -93.08841   -93.09576  ...  -92.76708   -92.7612\n",
      "    -92.87664 ]]\n",
      "\n",
      " [[-101.95196  -101.91887  -101.92181  ... -101.82843  -101.844604\n",
      "   -101.90343 ]\n",
      "  [-101.92034  -101.87695  -101.88039  ... -101.7625   -101.77034\n",
      "   -101.844604]\n",
      "  [-101.92622  -101.88431  -101.88676  ... -101.782104 -101.7625\n",
      "   -101.82843 ]\n",
      "  ...\n",
      "  [-101.90416  -101.85784  -101.86617  ... -101.6076   -101.599754\n",
      "   -101.71078 ]\n",
      "  [-101.907104 -101.86225  -101.87157  ... -101.60564  -101.59779\n",
      "   -101.70931 ]\n",
      "  [-101.945335 -101.912254 -101.9196   ... -101.7174   -101.71152\n",
      "   -101.79534 ]]\n",
      "\n",
      " [[-134.77547  -134.69606  -134.69899  ... -134.79091  -134.80708\n",
      "   -134.8659  ]\n",
      "  [-134.69753  -134.59238  -134.59581  ... -134.72498  -134.73282\n",
      "   -134.80708 ]\n",
      "  [-134.7034   -134.59973  -134.60217  ... -134.74458  -134.72498\n",
      "   -134.79091 ]\n",
      "  ...\n",
      "  [-134.69017  -134.58575  -134.59557  ... -134.63281  -134.62497\n",
      "   -134.72032 ]\n",
      "  [-134.69312  -134.58968  -134.59949  ... -134.63086  -134.62302\n",
      "   -134.71884 ]\n",
      "  [-134.77547  -134.69826  -134.70561  ... -134.72693  -134.72105\n",
      "   -134.7931  ]]]\n"
     ]
    }
   ],
   "source": [
    "# load image right eye\n",
    "right_eye = caffe.io.load_image('appleRightEye00003/00070.jpg')\n",
    "transformed_image_right = transformer_image_right.preprocess('image_right', right_eye)\n",
    "print(transformed_image_right)"
   ]
  },
  {
   "cell_type": "code",
   "execution_count": 56,
   "metadata": {},
   "outputs": [
    {
     "name": "stdout",
     "output_type": "stream",
     "text": [
      "[[[ -97.03142   -96.8895    -96.886566 ...  -96.919655  -96.9123\n",
      "    -97.044655]\n",
      "  [ -96.8895    -96.699554  -96.695145 ...  -96.75274   -96.742935\n",
      "    -96.91671 ]\n",
      "  [ -96.886566  -96.695145  -96.68975  ...  -96.774315  -96.76451\n",
      "    -96.93289 ]\n",
      "  ...\n",
      "  [ -96.84539   -96.64392   -96.64588  ...  -96.73093   -96.73044\n",
      "    -96.91083 ]\n",
      "  [ -96.84833   -96.64588   -96.64392  ...  -96.73044   -96.728966\n",
      "    -96.90936 ]\n",
      "  [ -97.000534  -96.84833   -96.84539  ...  -96.91083   -96.90936\n",
      "    -97.044655]]\n",
      "\n",
      " [[-105.39222  -105.2709   -105.26795  ... -105.356926 -105.34957\n",
      "   -105.447365]\n",
      "  [-105.2709   -105.10839  -105.10398  ... -105.23511  -105.2253\n",
      "   -105.35325 ]\n",
      "  [-105.26795  -105.10398  -105.09859  ... -105.254715 -105.24491\n",
      "   -105.36795 ]\n",
      "  ...\n",
      "  [-105.32384  -105.18217  -105.18413  ... -105.22629  -105.22433\n",
      "   -105.35545 ]\n",
      "  [-105.326775 -105.18413  -105.18217  ... -105.220406 -105.218445\n",
      "   -105.35104 ]\n",
      "  [-105.43413  -105.326775 -105.32384  ... -105.35104  -105.34957\n",
      "   -105.44957 ]]\n",
      "\n",
      " [[-141.25388  -141.14137  -141.13843  ... -141.27446  -141.2671\n",
      "   -141.34431 ]\n",
      "  [-141.14137  -140.99063  -140.98622  ... -141.17813  -141.16833\n",
      "   -141.26932 ]\n",
      "  [-141.13843  -140.98622  -140.98083  ... -141.19382  -141.18402\n",
      "   -141.28108 ]\n",
      "  ...\n",
      "  [-141.22078  -141.0997   -141.10167  ... -141.14627  -141.14725\n",
      "   -141.25755 ]\n",
      "  [-141.22372  -141.10167  -141.0997   ... -141.14137  -141.1404\n",
      "   -141.25166 ]\n",
      "  [-141.31563  -141.22372  -141.22078  ... -141.25093  -141.24947\n",
      "   -141.33328 ]]]\n"
     ]
    },
    {
     "data": {
      "image/png": "[encoded data removed]",
      "text/plain": [
       "<matplotlib.figure.Figure at 0x7fbf0f32d5c0>"
      ]
     },
     "metadata": {},
     "output_type": "display_data"
    }
   ],
   "source": [
    "# load image left eye\n",
    "left_eye = caffe.io.load_image('appleLeftEye00003/00070.jpg')\n",
    "transformed_image_left = transformer_image_left.preprocess('image_left', left_eye)\n",
    "plt.imshow(left_eye)\n",
    "print(transformed_image_left)"
   ]
  },
  {
   "cell_type": "code",
   "execution_count": 57,
   "metadata": {},
   "outputs": [
    {
     "name": "stdout",
     "output_type": "stream",
     "text": [
      "[[0 0 0 0 0 0 0 0 0 0 0 0 0 0 0 0 0 0 0 0 0 0 0 0 0]\n",
      " [0 0 0 0 0 0 0 0 0 0 0 0 0 0 0 0 0 0 0 0 0 0 0 0 0]\n",
      " [0 0 0 0 0 0 0 0 0 0 0 0 0 0 0 0 0 0 0 0 0 0 0 0 0]\n",
      " [0 0 0 0 0 0 0 0 0 0 0 0 0 0 0 0 0 0 0 0 0 0 0 0 0]\n",
      " [0 0 0 0 0 0 0 0 0 0 0 0 0 0 0 0 0 0 0 0 0 0 0 0 0]\n",
      " [0 0 0 0 0 0 0 0 0 0 0 0 0 0 0 0 0 0 0 0 0 0 0 0 0]\n",
      " [0 0 0 0 0 0 0 0 0 0 0 0 0 0 0 0 0 0 0 0 0 0 0 0 0]\n",
      " [0 0 0 0 0 0 0 0 0 0 0 0 0 0 0 0 0 0 0 0 0 0 0 0 0]\n",
      " [0 0 0 0 0 0 0 0 0 0 0 0 0 0 0 0 0 0 0 0 0 0 0 0 0]\n",
      " [0 0 0 0 0 0 0 0 0 0 0 0 0 0 0 0 0 0 0 0 0 0 0 0 0]\n",
      " [0 0 0 0 0 0 0 0 0 0 0 0 0 0 0 0 0 0 0 0 0 0 0 0 0]\n",
      " [0 0 0 0 0 0 0 0 0 0 0 0 0 0 0 0 0 0 0 0 0 0 0 0 0]\n",
      " [0 0 0 0 0 0 0 1 1 1 1 1 1 1 1 1 1 1 1 1 0 0 0 0 0]\n",
      " [0 0 0 0 0 0 0 1 1 1 1 1 1 1 1 1 1 1 1 1 0 0 0 0 0]\n",
      " [0 0 0 0 0 0 0 1 1 1 1 1 1 1 1 1 1 1 1 1 0 0 0 0 0]\n",
      " [0 0 0 0 0 0 0 1 1 1 1 1 1 1 1 1 1 1 1 1 0 0 0 0 0]\n",
      " [0 0 0 0 0 0 0 1 1 1 1 1 1 1 1 1 1 1 1 1 0 0 0 0 0]\n",
      " [0 0 0 0 0 0 0 1 1 1 1 1 1 1 1 1 1 1 1 1 0 0 0 0 0]\n",
      " [0 0 0 0 0 0 0 1 1 1 1 1 1 1 1 1 1 1 1 1 0 0 0 0 0]\n",
      " [0 0 0 0 0 0 0 1 1 1 1 1 1 1 1 1 1 1 1 1 0 0 0 0 0]\n",
      " [0 0 0 0 0 0 0 1 1 1 1 1 1 1 1 1 1 1 1 1 0 0 0 0 0]\n",
      " [0 0 0 0 0 0 0 1 1 1 1 1 1 1 1 1 1 1 1 1 0 0 0 0 0]\n",
      " [0 0 0 0 0 0 0 1 1 1 1 1 1 1 1 1 1 1 1 1 0 0 0 0 0]\n",
      " [0 0 0 0 0 0 0 1 1 1 1 1 1 1 1 1 1 1 1 1 0 0 0 0 0]\n",
      " [0 0 0 0 0 0 0 1 1 1 1 1 1 1 1 1 1 1 1 1 0 0 0 0 0]]\n"
     ]
    }
   ],
   "source": [
    "# load facegrid\n",
    "facegrid = scipy.io.loadmat('facegrid00003.mat')['labelFaceGrid'].T\n",
    "print(np.reshape(facegrid, (25, 25)))"
   ]
  },
  {
   "cell_type": "code",
   "execution_count": 58,
   "metadata": {},
   "outputs": [],
   "source": [
    "# copy the image data into the memory allocated for the net\n",
    "net.blobs['image_face'].data[...] = transformed_image_face\n",
    "net.blobs['image_right'].data[...] = transformed_image_right\n",
    "net.blobs['image_left'].data[...] = transformed_image_left\n",
    "net.blobs['facegrid'].data[...] = np.reshape(facegrid, (625,1,1))"
   ]
  },
  {
   "cell_type": "code",
   "execution_count": 59,
   "metadata": {},
   "outputs": [],
   "source": [
    "### perform classification\n",
    "output = net.forward()\n"
   ]
  },
  {
   "cell_type": "code",
   "execution_count": 60,
   "metadata": {},
   "outputs": [
    {
     "name": "stdout",
     "output_type": "stream",
     "text": [
      "[[-0.02028403 -6.417798  ]]\n"
     ]
    }
   ],
   "source": [
    "print(output['fc3'])"
   ]
  },
  {
   "cell_type": "code",
   "execution_count": null,
   "metadata": {},
   "outputs": [],
   "source": []
  },
  {
   "cell_type": "code",
   "execution_count": null,
   "metadata": {},
   "outputs": [],
   "source": []
  }
 ],
 "metadata": {
  "kernelspec": {
   "display_name": "Python 3",
   "language": "python",
   "name": "python3"
  },
  "language_info": {
   "codemirror_mode": {
    "name": "ipython",
    "version": 3
   },
   "file_extension": ".py",
   "mimetype": "text/x-python",
   "name": "python",
   "nbconvert_exporter": "python",
   "pygments_lexer": "ipython3",
   "version": "3.6.5"
  }
 },
 "nbformat": 4,
 "nbformat_minor": 2
}
